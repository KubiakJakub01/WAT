{
 "cells": [
  {
   "cell_type": "markdown",
   "id": "6dbfdd87",
   "metadata": {},
   "source": [
    "# Analiza sieci społecznej"
   ]
  },
  {
   "cell_type": "code",
   "execution_count": 3,
   "id": "e350f65b",
   "metadata": {},
   "outputs": [],
   "source": [
    "import json\n",
    "from pathlib import Path"
   ]
  },
  {
   "cell_type": "code",
   "execution_count": 4,
   "id": "04c45450",
   "metadata": {},
   "outputs": [],
   "source": [
    "def load_json(json_fp: Path) -> list[dict]:\n",
    "    with open(json_fp, 'r') as f:\n",
    "        return json.load(f)"
   ]
  },
  {
   "cell_type": "code",
   "execution_count": 5,
   "id": "31096556",
   "metadata": {},
   "outputs": [],
   "source": [
    "json_fp = Path('data/cresci-rtbust-2019_tweets.json')\n",
    "items = load_json(json_fp)"
   ]
  },
  {
   "cell_type": "code",
   "execution_count": 6,
   "id": "7db5825c",
   "metadata": {},
   "outputs": [
    {
     "data": {
      "text/plain": [
       "{'created_at': 'Wed May 15 16:00:19 +0000 2019',\n",
       " 'user': {'id': 3022357312,\n",
       "  'id_str': '3022357312',\n",
       "  'name': 'patatavis',\n",
       "  'screen_name': 'pattavis',\n",
       "  'location': '',\n",
       "  'description': '',\n",
       "  'url': None,\n",
       "  'entities': {'description': {'urls': []}},\n",
       "  'protected': False,\n",
       "  'followers_count': 218,\n",
       "  'friends_count': 285,\n",
       "  'listed_count': 0,\n",
       "  'created_at': 'Fri Feb 06 22:33:59 +0000 2015',\n",
       "  'favourites_count': 2305,\n",
       "  'utc_offset': None,\n",
       "  'time_zone': None,\n",
       "  'geo_enabled': False,\n",
       "  'verified': False,\n",
       "  'statuses_count': 3477,\n",
       "  'lang': 'it',\n",
       "  'contributors_enabled': False,\n",
       "  'is_translator': False,\n",
       "  'is_translation_enabled': False,\n",
       "  'profile_background_color': 'C0DEED',\n",
       "  'profile_background_image_url': 'http://abs.twimg.com/images/themes/theme1/bg.png',\n",
       "  'profile_background_image_url_https': 'https://abs.twimg.com/images/themes/theme1/bg.png',\n",
       "  'profile_background_tile': False,\n",
       "  'profile_image_url': 'http://pbs.twimg.com/profile_images/766656354941595648/mtEApv4V_normal.jpg',\n",
       "  'profile_image_url_https': 'https://pbs.twimg.com/profile_images/766656354941595648/mtEApv4V_normal.jpg',\n",
       "  'profile_banner_url': 'https://pbs.twimg.com/profile_banners/3022357312/1487891445',\n",
       "  'profile_link_color': '1DA1F2',\n",
       "  'profile_sidebar_border_color': 'C0DEED',\n",
       "  'profile_sidebar_fill_color': 'DDEEF6',\n",
       "  'profile_text_color': '333333',\n",
       "  'profile_use_background_image': True,\n",
       "  'has_extended_profile': False,\n",
       "  'default_profile': True,\n",
       "  'default_profile_image': False,\n",
       "  'following': False,\n",
       "  'follow_request_sent': False,\n",
       "  'notifications': False,\n",
       "  'translator_type': 'none'}}"
      ]
     },
     "execution_count": 6,
     "metadata": {},
     "output_type": "execute_result"
    }
   ],
   "source": [
    "items[0]"
   ]
  },
  {
   "cell_type": "code",
   "execution_count": null,
   "id": "857f09db",
   "metadata": {},
   "outputs": [],
   "source": []
  }
 ],
 "metadata": {
  "kernelspec": {
   "display_name": "venv",
   "language": "python",
   "name": "python3"
  },
  "language_info": {
   "codemirror_mode": {
    "name": "ipython",
    "version": 3
   },
   "file_extension": ".py",
   "mimetype": "text/x-python",
   "name": "python",
   "nbconvert_exporter": "python",
   "pygments_lexer": "ipython3",
   "version": "3.10.15"
  }
 },
 "nbformat": 4,
 "nbformat_minor": 5
}
